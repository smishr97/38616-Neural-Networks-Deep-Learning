{
  "cells": [
    {
      "cell_type": "markdown",
      "metadata": {
        "id": "view-in-github",
        "colab_type": "text"
      },
      "source": [
        "<a href=\"https://colab.research.google.com/github/smishr97/38616-Neural-Networks-Deep-Learning/blob/main/ShivamMishra_NN_reference.ipynb\" target=\"_parent\"><img src=\"https://colab.research.google.com/assets/colab-badge.svg\" alt=\"Open In Colab\"/></a>"
      ]
    },
    {
      "cell_type": "markdown",
      "id": "36188530-7dc1-4245-8d48-fb9f2fb07eac",
      "metadata": {
        "id": "36188530-7dc1-4245-8d48-fb9f2fb07eac"
      },
      "source": [
        "## 36-616: Neural Network and Deep Learning\n",
        "### Homework #1: Neural Network from ***PyTorch***\n",
        "**Name: Shivam Mishra** <br>\n",
        "**AndrewID: shivammi**"
      ]
    },
    {
      "cell_type": "code",
      "execution_count": null,
      "id": "5b5ccd3b-1621-4118-9030-30b670389b75",
      "metadata": {
        "id": "5b5ccd3b-1621-4118-9030-30b670389b75"
      },
      "outputs": [],
      "source": [
        "import numpy as np\n",
        "import matplotlib.pyplot as plt\n",
        "import torch\n",
        "from torch.utils.data import Dataset, DataLoader\n",
        "import torch.nn as nn\n",
        "from typing import Optional, List, Tuple, Dict\n",
        "import plotly.express as px\n",
        "import plotly.graph_objs as go\n",
        "plt.style.use('bmh')\n",
        "\n",
        "\n",
        "## For CUDA based devices\n",
        "if torch.cuda.is_available():\n",
        "    device = torch.device(\"cuda\")\n",
        "else:\n",
        "    device = torch.device(\"cpu\")\n",
        "    \n",
        "# ## For MacOS based devices\n",
        "# if torch.backends.mps.is_available():\n",
        "#     device = torch.device(\"mps\")\n",
        "# else:\n",
        "#     device = torch.device(\"cpu\")"
      ]
    },
    {
      "cell_type": "markdown",
      "id": "8fabd63d-1c38-4137-9ed4-7c9ed70a39c9",
      "metadata": {
        "id": "8fabd63d-1c38-4137-9ed4-7c9ed70a39c9"
      },
      "source": [
        "## Define the layers for the NN"
      ]
    },
    {
      "cell_type": "code",
      "source": [
        "class SingleLayerMLP(nn.Module):\n",
        "    \"\"\"constructing a neural network with Pytorch\"\"\"\n",
        "\n",
        "    def __init__(self, indim, outdim, hidden_dim=1):\n",
        "        \"\"\"\n",
        "        Constructor for the SingleLayerMLP class.\n",
        "\n",
        "        Args:\n",
        "        - indim (int): The input dimension of the network.\n",
        "        - outdim (int): The output dimension of the network.\n",
        "        - hidden_dim (int): The number of hidden units in the network. Default is 1.\n",
        "        \"\"\"\n",
        "\n",
        "        super(SingleLayerMLP, self).__init__()\n",
        "        self.indim = indim\n",
        "        self.outdim = outdim\n",
        "        self.hidden_dim = hidden_dim\n",
        "\n",
        "        # Define the layers of the network\n",
        "        self.linear1 = nn.Linear(self.indim, self.hidden_dim)\n",
        "        self.relu = nn.ReLU()\n",
        "        self.linear2 = nn.Linear(self.hidden_dim, self.hidden_dim)\n",
        "        # self.relu2 = nn.ReLU()\n",
        "        # self.linear3 = nn.Linear(self.hidden_dim, self.outdim)\n",
        "\n",
        "    def forward(self, x):\n",
        "        \"\"\"\n",
        "        Performs a forward pass of the network.\n",
        "\n",
        "        Args:\n",
        "        - x (torch.Tensor): Input tensor of shape (batch_size, input_dim)\n",
        "\n",
        "        Returns:\n",
        "        - out (torch.Tensor): Output tensor of shape (batch_size, output_dim)\n",
        "        \"\"\"\n",
        "\n",
        "        out = self.linear1(x)  # Apply the first linear transformation\n",
        "        out = self.relu(out)  # Apply the nonlinearity\n",
        "        out = self.linear2(out)  # Apply the second linear transformation\n",
        "        # out = self.relu2(out)  # Apply the nonlinearity\n",
        "        # out = self.linear3(out)  # Apply the final linear transformation\n",
        "        return out  # Return the output tensor"
      ],
      "metadata": {
        "id": "13O5yAPUhqAG"
      },
      "id": "13O5yAPUhqAG",
      "execution_count": null,
      "outputs": []
    },
    {
      "cell_type": "markdown",
      "id": "70582d14-9749-4722-b3e8-6c4cb9509941",
      "metadata": {
        "id": "70582d14-9749-4722-b3e8-6c4cb9509941"
      },
      "source": [
        "## Transform the data"
      ]
    },
    {
      "cell_type": "code",
      "source": [
        "class DS(Dataset):\n",
        "    \"\"\"\n",
        "    A PyTorch dataset class for loading data in batches.\n",
        "\n",
        "    X: Input tensor of shape (num_samples, num_features)\n",
        "    Y: Target tensor of shape (num_samples,)\n",
        "    \"\"\"\n",
        "\n",
        "    def __init__(self, X: np.ndarray, Y: np.ndarray):\n",
        "        self.length = len(X)  # Total number of samples in the dataset\n",
        "        self.X = X  # Input tensor\n",
        "        self.Y = Y  # Target tensor\n",
        "\n",
        "    def __getitem__(self, idx):\n",
        "        \"\"\"\n",
        "        Returns a single sample from the dataset.\n",
        "\n",
        "        idx: Index of the sample to retrieve\n",
        "\n",
        "        Returns:\n",
        "        A tuple containing the input tensor and target value for the sample at the given index\n",
        "        \"\"\"\n",
        "        x = self.X[idx, :]  # Get the input tensor for the given index\n",
        "        y = self.Y[idx]  # Get the target value for the given index\n",
        "        return (x, y)\n",
        "\n",
        "    def __len__(self):\n",
        "        \"\"\"\n",
        "        Returns the total number of samples in the dataset.\n",
        "        \"\"\"\n",
        "        return self.length"
      ],
      "metadata": {
        "id": "g66T9XMmiuhf"
      },
      "id": "g66T9XMmiuhf",
      "execution_count": null,
      "outputs": []
    },
    {
      "cell_type": "markdown",
      "id": "6ee1c5a8-4ab4-4d56-81c3-89a40f6543ac",
      "metadata": {
        "id": "6ee1c5a8-4ab4-4d56-81c3-89a40f6543ac"
      },
      "source": [
        "## Train and Test function"
      ]
    },
    {
      "cell_type": "code",
      "source": [
        "# Function to train and test a model\n",
        "def train_test(train_loader, test_loader, model, num_epochs, optimizer, loss_fn):\n",
        "    \n",
        "    # Initialize lists to store loss and accuracy values\n",
        "    training_loss = []\n",
        "    testing_loss = []\n",
        "    training_accuracy = []\n",
        "    test_accuracy = []\n",
        "    train_acc = []\n",
        "    \n",
        "    # Loop through epochs\n",
        "    for epoch in range(num_epochs):\n",
        "        running_loss = 0.0\n",
        "        train_correct = 0.0\n",
        "        total_samples = 0\n",
        "        \n",
        "        # Loop through batches in training dataset\n",
        "        for batch_idx, (data, target) in enumerate(train_loader):\n",
        "            data = data.to(torch.float32)   # Transpose input and change the datatype to keep consistent \n",
        "            # with the default pytorch weight matrix data type\n",
        "            target = target.to(torch.long)   # Transpose labels \n",
        "            # labels_onehot = torch.from_numpy(labels2onehot(target))   # Convert labels to one-hot encoding\n",
        "            \n",
        "            # Forward Pass \n",
        "            output = model.forward(data)   # Pass input through the model to get output\n",
        "            loss = loss_fn(output, target)   # Calculate loss using cross-entropy\n",
        "\n",
        "            # Backward Pass\n",
        "            optimizer.zero_grad() # sets optimizer to zero grad to remove previous epoch gradients\n",
        "            loss.backward() # Backpropagate the gradients through the model\n",
        "            optimizer.step() # Update the model parameters\n",
        "            \n",
        "            running_loss += loss.item()* data.size(0)  # Add loss to running loss\n",
        "            _, predicted = torch.max(output, dim=1)  # get predicted class\n",
        "            train_correct += (predicted == target).sum().item()  # update total correct\n",
        "\n",
        "            total_samples += data.size(0)  # update total samples\n",
        "        \n",
        "        # Append average training loss and accuracy to lists\n",
        "        training_loss.append(running_loss / total_samples)\n",
        "        training_accuracy.append(train_correct / total_samples)\n",
        "        \n",
        "        # Evaluate model on test dataset\n",
        "        test_loss = 0.0\n",
        "        test_correct = 0.0\n",
        "        total_samples = 0\n",
        "        with torch.no_grad():\n",
        "            for data, target in test_loader:\n",
        "                data = data.to(torch.float32)\n",
        "                target = target.to(torch.long)\n",
        "                # target = torch.from_numpy(labels2onehot(target))\n",
        "\n",
        "                # Forward Pass\n",
        "                output = model.forward(data)\n",
        "                loss = loss_fn(output, target)\n",
        "\n",
        "                test_loss += loss.item()*data.size(0)  # Add loss to running loss\n",
        "                _, predicted = torch.max(output, dim=1)  # get predicted class\n",
        "                test_correct += (predicted == target).sum().item()  # update total correct\n",
        "\n",
        "                total_samples += data.size(0)  # update total samples\n",
        "\n",
        "        testing_loss.append(test_loss / total_samples)   # Append average test loss to list\n",
        "        test_accuracy.append(test_correct / total_samples)   # Append average test accuracy to list\n",
        "    \n",
        "    # Return loss and accuracy values for both training and testing\n",
        "    return training_loss, testing_loss, training_accuracy, test_accuracy"
      ],
      "metadata": {
        "id": "Wycn5IWwkBov"
      },
      "id": "Wycn5IWwkBov",
      "execution_count": null,
      "outputs": []
    },
    {
      "cell_type": "code",
      "execution_count": null,
      "id": "2b2f22ea-3f5f-40e0-bb92-2f8100019ab8",
      "metadata": {
        "colab": {
          "base_uri": "https://localhost:8080/"
        },
        "id": "2b2f22ea-3f5f-40e0-bb92-2f8100019ab8",
        "outputId": "22b43dd9-08f8-48dc-eb96-8aa4a2edd451"
      },
      "outputs": [
        {
          "output_type": "stream",
          "name": "stdout",
          "text": [
            "500 10\n",
            "500 10\n"
          ]
        }
      ],
      "source": [
        "if __name__ == \"__main__\":\n",
        "    \"\"\"The dataset loaders were provided for you.\n",
        "    You need to implement your own training process.\n",
        "    You need plot the loss and accuracies during the training process and test process. \n",
        "    \"\"\"\n",
        "    \n",
        "    indim = 10\n",
        "    outdim = 2\n",
        "    hidden_dim = 100\n",
        "    lr = 0.01\n",
        "    batch_size = 64\n",
        "    epochs = 200\n",
        "\n",
        "    #dataset\n",
        "    Xtrain = np.loadtxt(\"/content/XTrain.txt\", delimiter=\"\\t\")\n",
        "    Ytrain = np.loadtxt(\"/content/yTrain.txt\", delimiter=\"\\t\").astype(int)\n",
        "    m1, n1 = Xtrain.shape\n",
        "    print(m1, n1)\n",
        "    train_ds = DS(Xtrain, Ytrain)\n",
        "    train_loader = DataLoader(train_ds, batch_size=batch_size)\n",
        "\n",
        "    Xtest = np.loadtxt(\"/content/XTest.txt\", delimiter=\"\\t\")\n",
        "    Ytest = np.loadtxt(\"/content/yTest.txt\", delimiter=\"\\t\").astype(int)\n",
        "    m2, n2 = Xtest.shape\n",
        "    print(m1, n2)\n",
        "    test_ds = DS(Xtest, Ytest)\n",
        "    test_loader = DataLoader(test_ds, batch_size=batch_size)\n",
        "\n",
        "    #construct the model\n",
        "    model = SingleLayerMLP(indim, outdim, hidden_dim)\n",
        "    criterion = nn.CrossEntropyLoss()\n",
        "    optimizer = torch.optim.SGD(model.parameters(), lr = 0.01)\n",
        "\n",
        "    #construct the training and testing process\n",
        "    training_loss, testing_loss, training_acc, testing_acc = train_test(train_loader, test_loader, model, epochs, optimizer, criterion)"
      ]
    },
    {
      "cell_type": "markdown",
      "id": "0cc81015-28aa-4db4-b9ab-3af869c99d6d",
      "metadata": {
        "id": "0cc81015-28aa-4db4-b9ab-3af869c99d6d"
      },
      "source": [
        "### Plot Training and Test losses"
      ]
    },
    {
      "cell_type": "code",
      "source": [
        "fig = go.Figure()\n",
        "\n",
        "# Add markers at the minimum values of the training and test losses\n",
        "train_min_index = training_loss.index(min(training_loss))\n",
        "test_min_index = testing_loss.index(min(testing_loss))\n",
        "\n",
        "# Add training and test loss traces to the figure\n",
        "fig.add_trace(go.Scatter(x=list(range(len(training_loss))), y=training_loss, name='Training Loss', line=dict(color='green')))\n",
        "fig.add_annotation(x=train_min_index, y=training_loss[train_min_index], text=f\"Min Training Loss: {round(training_loss[train_min_index], 2)}\", showarrow=True, arrowhead=1, ax=-50, ay=-50)\n",
        "\n",
        "fig.add_trace(go.Scatter(x=list(range(len(testing_loss))), y=testing_loss, name='Test Loss', line=dict(color='red')))\n",
        "fig.add_annotation(x=test_min_index, y=testing_loss[test_min_index], text=f\"Min Test Loss: {round(testing_loss[test_min_index], 2)}\", showarrow=True, arrowhead=1, ax=-50, ay=50)\n",
        "\n",
        "fig.update_layout(title='Training vs. Test Losses for Reference NN Implementation', xaxis_title='Epochs', yaxis_title='Loss', height=600, width= 800)\n",
        "fig.show()"
      ],
      "metadata": {
        "colab": {
          "base_uri": "https://localhost:8080/",
          "height": 617
        },
        "id": "FJquegZlfUOP",
        "outputId": "5a9c8779-33bb-4832-af29-31e867db3df1"
      },
      "id": "FJquegZlfUOP",
      "execution_count": null,
      "outputs": [
        {
          "output_type": "display_data",
          "data": {
            "text/html": [
              "<html>\n",
              "<head><meta charset=\"utf-8\" /></head>\n",
              "<body>\n",
              "    <div>            <script src=\"https://cdnjs.cloudflare.com/ajax/libs/mathjax/2.7.5/MathJax.js?config=TeX-AMS-MML_SVG\"></script><script type=\"text/javascript\">if (window.MathJax) {MathJax.Hub.Config({SVG: {font: \"STIX-Web\"}});}</script>                <script type=\"text/javascript\">window.PlotlyConfig = {MathJaxConfig: 'local'};</script>\n",
              "        <script src=\"https://cdn.plot.ly/plotly-2.8.3.min.js\"></script>                <div id=\"a781bbd4-5581-4cab-9a93-fbc7fa4dda17\" class=\"plotly-graph-div\" style=\"height:600px; width:800px;\"></div>            <script type=\"text/javascript\">                                    window.PLOTLYENV=window.PLOTLYENV || {};                                    if (document.getElementById(\"a781bbd4-5581-4cab-9a93-fbc7fa4dda17\")) {                    Plotly.newPlot(                        \"a781bbd4-5581-4cab-9a93-fbc7fa4dda17\",                        [{\"line\":{\"color\":\"green\"},\"name\":\"Training Loss\",\"x\":[0,1,2,3,4,5,6,7,8,9,10,11,12,13,14,15,16,17,18,19,20,21,22,23,24,25,26,27,28,29,30,31,32,33,34,35,36,37,38,39,40,41,42,43,44,45,46,47,48,49,50,51,52,53,54,55,56,57,58,59,60,61,62,63,64,65,66,67,68,69,70,71,72,73,74,75,76,77,78,79,80,81,82,83,84,85,86,87,88,89,90,91,92,93,94,95,96,97,98,99,100,101,102,103,104,105,106,107,108,109,110,111,112,113,114,115,116,117,118,119,120,121,122,123,124,125,126,127,128,129,130,131,132,133,134,135,136,137,138,139,140,141,142,143,144,145,146,147,148,149,150,151,152,153,154,155,156,157,158,159,160,161,162,163,164,165,166,167,168,169,170,171,172,173,174,175,176,177,178,179,180,181,182,183,184,185,186,187,188,189,190,191,192,193,194,195,196,197,198,199],\"y\":[4.573533515930176,4.1952197265625,3.8199407901763918,3.447306646347046,3.0787770385742186,2.718331636428833,2.3729221363067627,2.0514166593551635,1.7621771755218505,1.5107266817092895,1.298325246810913,1.1226826009750366,0.9792570161819458,0.8626405801773072,0.7677527675628663,0.6901732339859009,0.6262581367492676,0.5731332788467407,0.5285724682807922,0.49085551953315737,0.4586411793231964,0.4308951313495636,0.4068113088607788,0.3857599515914917,0.367233163356781,0.3508303463459015,0.33622803044319155,0.3231640465259552,0.3114174587726593,0.3008095064163208,0.2911902651786804,0.2824325420856476,0.27443365287780763,0.26710335397720336,0.26036278462409973,0.2541484433412552,0.2484062249660492,0.2430853806734085,0.23814426457881926,0.2335451203584671,0.229253986120224,0.22524337816238404,0.22148932003974914,0.2179670913219452,0.214657453417778,0.21154223787784576,0.2086058257818222,0.2058331892490387,0.20321167027950288,0.20072999894618987,0.19837652242183684,0.1961438249349594,0.19402183854579927,0.1920023443698883,0.19007925009727478,0.18824584817886353,0.18649663925170898,0.1848258019685745,0.18322892630100251,0.1817002145051956,0.18023562180995942,0.17883149790763855,0.1774851186275482,0.17619254565238954,0.17495052003860473,0.17375528013706207,0.17260387647151948,0.1714951149225235,0.17042673420906068,0.16939690923690795,0.16840347993373872,0.16744473326206208,0.16651816296577454,0.16562242949008943,0.16475577569007874,0.16391713976860045,0.16310521245002746,0.16231875479221344,0.1615564260482788,0.1608167232275009,0.16009871912002563,0.1594013981819153,0.15872397303581237,0.15806578516960143,0.15742587518692017,0.15680323135852814,0.15619725620746613,0.15560722506046296,0.15503238523006438,0.1544719262123108,0.15392585217952728,0.15339380145072937,0.15287477445602418,0.15236837434768677,0.15187380182743074,0.15139085614681244,0.15091899752616883,0.15045779275894164,0.15000675630569457,0.1495656830072403,0.14913445615768434,0.14871257138252258,0.14829970502853393,0.14789522719383238,0.147498899102211,0.14711012423038483,0.14672904706001283,0.14635567724704743,0.14598946177959443,0.14563027453422547,0.1452780258655548,0.14493228125572205,0.14459285616874695,0.14425965094566345,0.14393239259719848,0.1436109857559204,0.14329531240463256,0.14298497307300567,0.14267980134487152,0.1423807293176651,0.1420861783027649,0.14179643523693083,0.14151142317056656,0.14123088043928148,0.1409544003009796,0.14068214625120162,0.14041394025087356,0.1401497443318367,0.1398896083831787,0.13963349717855453,0.1393810775876045,0.1391322753429413,0.1388872931599617,0.13864639383554458,0.13840874010324478,0.13817436665296554,0.13794317710399628,0.13771502804756164,0.13748978328704833,0.13726769626140595,0.1370481994152069,0.13683129340410233,0.1366173238158226,0.13640605705976486,0.13619726955890654,0.13599094074964524,0.13578767174482345,0.1355865421295166,0.13538764107227325,0.13519099360704423,0.13499657374620438,0.13480386573076247,0.1346138378381729,0.13442586731910705,0.13424000984430312,0.13405636155605316,0.1338743144273758,0.1336939401626587,0.13351584213972092,0.13333902418613433,0.1331641858816147,0.13299068063497543,0.13281904685497284,0.1326491547226906,0.13248064637184143,0.1323138000369072,0.13214861619472504,0.13198485201597213,0.1318227699995041,0.13166180384159087,0.13150249993801116,0.13134472507238387,0.13118781381845473,0.13103289085626602,0.1308789671063423,0.13072644913196563,0.13057519894838332,0.1304251742362976,0.13027622497081756,0.13012843883037567,0.1299818349480629,0.12983631306886673,0.1296917334794998,0.12954838782548905,0.12940623015165328,0.1292649081349373,0.1291248100399971,0.12898572075366974,0.1288477075099945,0.1287106860280037,0.1285742794275284,0.12843905198574065,0.12830471432209015,0.12817110294103623,0.12803854167461395,0.12790691274404525,0.1277764093875885,0.127646733045578,0.12751836198568345,0.12739101183414459],\"type\":\"scatter\"},{\"line\":{\"color\":\"red\"},\"name\":\"Test Loss\",\"x\":[0,1,2,3,4,5,6,7,8,9,10,11,12,13,14,15,16,17,18,19,20,21,22,23,24,25,26,27,28,29,30,31,32,33,34,35,36,37,38,39,40,41,42,43,44,45,46,47,48,49,50,51,52,53,54,55,56,57,58,59,60,61,62,63,64,65,66,67,68,69,70,71,72,73,74,75,76,77,78,79,80,81,82,83,84,85,86,87,88,89,90,91,92,93,94,95,96,97,98,99,100,101,102,103,104,105,106,107,108,109,110,111,112,113,114,115,116,117,118,119,120,121,122,123,124,125,126,127,128,129,130,131,132,133,134,135,136,137,138,139,140,141,142,143,144,145,146,147,148,149,150,151,152,153,154,155,156,157,158,159,160,161,162,163,164,165,166,167,168,169,170,171,172,173,174,175,176,177,178,179,180,181,182,183,184,185,186,187,188,189,190,191,192,193,194,195,196,197,198,199],\"y\":[4.337874717712403,3.938754749298096,3.5426469898223876,3.150504455566406,2.765895652770996,2.3957983016967774,2.0501004791259767,1.738963050842285,1.4696479320526123,1.2444332504272462,1.0608187484741212,0.9135913705825806,0.7963714122772216,0.7030194330215455,0.6282986450195313,0.5679852128028869,0.5188245677947998,0.47833517551422117,0.44466124057769774,0.41635774612426757,0.3923440968990326,0.37177975416183473,0.3540354478359222,0.3386055326461792,0.3250944948196411,0.3131919515132904,0.3026372718811035,0.2932286536693573,0.28479776382446287,0.2772119677066803,0.2703559160232544,0.26413588047027586,0.2584714353084564,0.2532976669073105,0.24856045186519624,0.24419562816619872,0.24017286777496338,0.2364572548866272,0.23302101373672485,0.22983099400997162,0.22686402142047882,0.22409844279289245,0.22151450097560882,0.21909625232219695,0.21682835280895232,0.21469954788684845,0.21269657850265503,0.21080917298793792,0.20902872025966646,0.20734665751457215,0.20575589895248414,0.2042505693435669,0.2028244960308075,0.20147142589092254,0.2001857739686966,0.19896238148212433,0.19779754877090455,0.19668820917606353,0.19563027799129487,0.19462006509304047,0.1936551946401596,0.1927334660291672,0.19185228228569032,0.1910079824924469,0.19019927144050597,0.18942411720752717,0.1886802941560745,0.1879665160179138,0.18728050708770752,0.18661962926387787,0.18598384141921998,0.1853712296485901,0.18478108763694764,0.1842124330997467,0.1836640554666519,0.18313488900661468,0.1826239514350891,0.1821323537826538,0.18165681302547454,0.18119675397872925,0.18075159847736358,0.1803207677602768,0.17990355908870698,0.1794992482662201,0.1791074049472809,0.17872753262519836,0.17835888206958772,0.17800071358680725,0.17765366554260253,0.17731678307056428,0.17698901355266572,0.17667062044143678,0.17636128783226013,0.17606006383895875,0.17576710283756256,0.17548173189163208,0.1752043980360031,0.17493414461612702,0.1746706932783127,0.1744157415628433,0.17416656911373138,0.173923556804657,0.17368534803390503,0.17345247626304627,0.17322462916374207,0.17300249099731446,0.17278567135334014,0.17257396638393402,0.17236786782741548,0.1721662038564682,0.17196903944015504,0.17177634358406066,0.17158760666847228,0.1714032059907913,0.17122222483158112,0.1710446810722351,0.17087133169174196,0.17070125043392181,0.17053475677967073,0.17037236154079438,0.17021311581134796,0.17005664467811585,0.16990367710590362,0.16975362181663514,0.16960655391216278,0.1694618943333626,0.1693199446797371,0.16918023943901062,0.16904334366321563,0.16890813678503036,0.1687756261229515,0.16864491015672683,0.1685169130563736,0.16839144498109818,0.16826812982559203,0.16814686954021454,0.16802752763032913,0.1679105144739151,0.167794851064682,0.1676796245574951,0.16756589889526366,0.16745573848485948,0.16734555274248122,0.1672363093495369,0.16713046699762343,0.16702378869056703,0.16692057758569717,0.16681775480508804,0.16671651363372803,0.16661760538816453,0.16651891618967057,0.1664218357205391,0.16632560044527053,0.16622899770736693,0.1661348333954811,0.16604055017232894,0.16594745010137557,0.16585610628128053,0.1657649528980255,0.16567690610885621,0.16558839350938798,0.16549978941679,0.1654142388701439,0.1653282332420349,0.16524425238370896,0.16515911102294922,0.165075603723526,0.16499451637268067,0.16491275370121003,0.1648316776752472,0.1647534868121147,0.16467439532279968,0.16459706723690032,0.16451963871717454,0.16444256782531738,0.1643674436211586,0.16429079353809356,0.1642141732573509,0.16413964837789535,0.16406330317258835,0.16398989379405976,0.16391570061445238,0.16384150713682175,0.16376992851495742,0.16369731426239015,0.16362484216690062,0.1635555511713028,0.16348447740077973,0.16341544419527054,0.16334640622138977,0.16327694565057754,0.16321008682250976,0.16314225494861603,0.16307468354701996,0.16300980657339095,0.16294255673885347,0.1628783631324768,0.16281329542398454,0.1627476167678833,0.16268489331007005],\"type\":\"scatter\"}],                        {\"template\":{\"data\":{\"bar\":[{\"error_x\":{\"color\":\"#2a3f5f\"},\"error_y\":{\"color\":\"#2a3f5f\"},\"marker\":{\"line\":{\"color\":\"#E5ECF6\",\"width\":0.5},\"pattern\":{\"fillmode\":\"overlay\",\"size\":10,\"solidity\":0.2}},\"type\":\"bar\"}],\"barpolar\":[{\"marker\":{\"line\":{\"color\":\"#E5ECF6\",\"width\":0.5},\"pattern\":{\"fillmode\":\"overlay\",\"size\":10,\"solidity\":0.2}},\"type\":\"barpolar\"}],\"carpet\":[{\"aaxis\":{\"endlinecolor\":\"#2a3f5f\",\"gridcolor\":\"white\",\"linecolor\":\"white\",\"minorgridcolor\":\"white\",\"startlinecolor\":\"#2a3f5f\"},\"baxis\":{\"endlinecolor\":\"#2a3f5f\",\"gridcolor\":\"white\",\"linecolor\":\"white\",\"minorgridcolor\":\"white\",\"startlinecolor\":\"#2a3f5f\"},\"type\":\"carpet\"}],\"choropleth\":[{\"colorbar\":{\"outlinewidth\":0,\"ticks\":\"\"},\"type\":\"choropleth\"}],\"contour\":[{\"colorbar\":{\"outlinewidth\":0,\"ticks\":\"\"},\"colorscale\":[[0.0,\"#0d0887\"],[0.1111111111111111,\"#46039f\"],[0.2222222222222222,\"#7201a8\"],[0.3333333333333333,\"#9c179e\"],[0.4444444444444444,\"#bd3786\"],[0.5555555555555556,\"#d8576b\"],[0.6666666666666666,\"#ed7953\"],[0.7777777777777778,\"#fb9f3a\"],[0.8888888888888888,\"#fdca26\"],[1.0,\"#f0f921\"]],\"type\":\"contour\"}],\"contourcarpet\":[{\"colorbar\":{\"outlinewidth\":0,\"ticks\":\"\"},\"type\":\"contourcarpet\"}],\"heatmap\":[{\"colorbar\":{\"outlinewidth\":0,\"ticks\":\"\"},\"colorscale\":[[0.0,\"#0d0887\"],[0.1111111111111111,\"#46039f\"],[0.2222222222222222,\"#7201a8\"],[0.3333333333333333,\"#9c179e\"],[0.4444444444444444,\"#bd3786\"],[0.5555555555555556,\"#d8576b\"],[0.6666666666666666,\"#ed7953\"],[0.7777777777777778,\"#fb9f3a\"],[0.8888888888888888,\"#fdca26\"],[1.0,\"#f0f921\"]],\"type\":\"heatmap\"}],\"heatmapgl\":[{\"colorbar\":{\"outlinewidth\":0,\"ticks\":\"\"},\"colorscale\":[[0.0,\"#0d0887\"],[0.1111111111111111,\"#46039f\"],[0.2222222222222222,\"#7201a8\"],[0.3333333333333333,\"#9c179e\"],[0.4444444444444444,\"#bd3786\"],[0.5555555555555556,\"#d8576b\"],[0.6666666666666666,\"#ed7953\"],[0.7777777777777778,\"#fb9f3a\"],[0.8888888888888888,\"#fdca26\"],[1.0,\"#f0f921\"]],\"type\":\"heatmapgl\"}],\"histogram\":[{\"marker\":{\"pattern\":{\"fillmode\":\"overlay\",\"size\":10,\"solidity\":0.2}},\"type\":\"histogram\"}],\"histogram2d\":[{\"colorbar\":{\"outlinewidth\":0,\"ticks\":\"\"},\"colorscale\":[[0.0,\"#0d0887\"],[0.1111111111111111,\"#46039f\"],[0.2222222222222222,\"#7201a8\"],[0.3333333333333333,\"#9c179e\"],[0.4444444444444444,\"#bd3786\"],[0.5555555555555556,\"#d8576b\"],[0.6666666666666666,\"#ed7953\"],[0.7777777777777778,\"#fb9f3a\"],[0.8888888888888888,\"#fdca26\"],[1.0,\"#f0f921\"]],\"type\":\"histogram2d\"}],\"histogram2dcontour\":[{\"colorbar\":{\"outlinewidth\":0,\"ticks\":\"\"},\"colorscale\":[[0.0,\"#0d0887\"],[0.1111111111111111,\"#46039f\"],[0.2222222222222222,\"#7201a8\"],[0.3333333333333333,\"#9c179e\"],[0.4444444444444444,\"#bd3786\"],[0.5555555555555556,\"#d8576b\"],[0.6666666666666666,\"#ed7953\"],[0.7777777777777778,\"#fb9f3a\"],[0.8888888888888888,\"#fdca26\"],[1.0,\"#f0f921\"]],\"type\":\"histogram2dcontour\"}],\"mesh3d\":[{\"colorbar\":{\"outlinewidth\":0,\"ticks\":\"\"},\"type\":\"mesh3d\"}],\"parcoords\":[{\"line\":{\"colorbar\":{\"outlinewidth\":0,\"ticks\":\"\"}},\"type\":\"parcoords\"}],\"pie\":[{\"automargin\":true,\"type\":\"pie\"}],\"scatter\":[{\"marker\":{\"colorbar\":{\"outlinewidth\":0,\"ticks\":\"\"}},\"type\":\"scatter\"}],\"scatter3d\":[{\"line\":{\"colorbar\":{\"outlinewidth\":0,\"ticks\":\"\"}},\"marker\":{\"colorbar\":{\"outlinewidth\":0,\"ticks\":\"\"}},\"type\":\"scatter3d\"}],\"scattercarpet\":[{\"marker\":{\"colorbar\":{\"outlinewidth\":0,\"ticks\":\"\"}},\"type\":\"scattercarpet\"}],\"scattergeo\":[{\"marker\":{\"colorbar\":{\"outlinewidth\":0,\"ticks\":\"\"}},\"type\":\"scattergeo\"}],\"scattergl\":[{\"marker\":{\"colorbar\":{\"outlinewidth\":0,\"ticks\":\"\"}},\"type\":\"scattergl\"}],\"scattermapbox\":[{\"marker\":{\"colorbar\":{\"outlinewidth\":0,\"ticks\":\"\"}},\"type\":\"scattermapbox\"}],\"scatterpolar\":[{\"marker\":{\"colorbar\":{\"outlinewidth\":0,\"ticks\":\"\"}},\"type\":\"scatterpolar\"}],\"scatterpolargl\":[{\"marker\":{\"colorbar\":{\"outlinewidth\":0,\"ticks\":\"\"}},\"type\":\"scatterpolargl\"}],\"scatterternary\":[{\"marker\":{\"colorbar\":{\"outlinewidth\":0,\"ticks\":\"\"}},\"type\":\"scatterternary\"}],\"surface\":[{\"colorbar\":{\"outlinewidth\":0,\"ticks\":\"\"},\"colorscale\":[[0.0,\"#0d0887\"],[0.1111111111111111,\"#46039f\"],[0.2222222222222222,\"#7201a8\"],[0.3333333333333333,\"#9c179e\"],[0.4444444444444444,\"#bd3786\"],[0.5555555555555556,\"#d8576b\"],[0.6666666666666666,\"#ed7953\"],[0.7777777777777778,\"#fb9f3a\"],[0.8888888888888888,\"#fdca26\"],[1.0,\"#f0f921\"]],\"type\":\"surface\"}],\"table\":[{\"cells\":{\"fill\":{\"color\":\"#EBF0F8\"},\"line\":{\"color\":\"white\"}},\"header\":{\"fill\":{\"color\":\"#C8D4E3\"},\"line\":{\"color\":\"white\"}},\"type\":\"table\"}]},\"layout\":{\"annotationdefaults\":{\"arrowcolor\":\"#2a3f5f\",\"arrowhead\":0,\"arrowwidth\":1},\"autotypenumbers\":\"strict\",\"coloraxis\":{\"colorbar\":{\"outlinewidth\":0,\"ticks\":\"\"}},\"colorscale\":{\"diverging\":[[0,\"#8e0152\"],[0.1,\"#c51b7d\"],[0.2,\"#de77ae\"],[0.3,\"#f1b6da\"],[0.4,\"#fde0ef\"],[0.5,\"#f7f7f7\"],[0.6,\"#e6f5d0\"],[0.7,\"#b8e186\"],[0.8,\"#7fbc41\"],[0.9,\"#4d9221\"],[1,\"#276419\"]],\"sequential\":[[0.0,\"#0d0887\"],[0.1111111111111111,\"#46039f\"],[0.2222222222222222,\"#7201a8\"],[0.3333333333333333,\"#9c179e\"],[0.4444444444444444,\"#bd3786\"],[0.5555555555555556,\"#d8576b\"],[0.6666666666666666,\"#ed7953\"],[0.7777777777777778,\"#fb9f3a\"],[0.8888888888888888,\"#fdca26\"],[1.0,\"#f0f921\"]],\"sequentialminus\":[[0.0,\"#0d0887\"],[0.1111111111111111,\"#46039f\"],[0.2222222222222222,\"#7201a8\"],[0.3333333333333333,\"#9c179e\"],[0.4444444444444444,\"#bd3786\"],[0.5555555555555556,\"#d8576b\"],[0.6666666666666666,\"#ed7953\"],[0.7777777777777778,\"#fb9f3a\"],[0.8888888888888888,\"#fdca26\"],[1.0,\"#f0f921\"]]},\"colorway\":[\"#636efa\",\"#EF553B\",\"#00cc96\",\"#ab63fa\",\"#FFA15A\",\"#19d3f3\",\"#FF6692\",\"#B6E880\",\"#FF97FF\",\"#FECB52\"],\"font\":{\"color\":\"#2a3f5f\"},\"geo\":{\"bgcolor\":\"white\",\"lakecolor\":\"white\",\"landcolor\":\"#E5ECF6\",\"showlakes\":true,\"showland\":true,\"subunitcolor\":\"white\"},\"hoverlabel\":{\"align\":\"left\"},\"hovermode\":\"closest\",\"mapbox\":{\"style\":\"light\"},\"paper_bgcolor\":\"white\",\"plot_bgcolor\":\"#E5ECF6\",\"polar\":{\"angularaxis\":{\"gridcolor\":\"white\",\"linecolor\":\"white\",\"ticks\":\"\"},\"bgcolor\":\"#E5ECF6\",\"radialaxis\":{\"gridcolor\":\"white\",\"linecolor\":\"white\",\"ticks\":\"\"}},\"scene\":{\"xaxis\":{\"backgroundcolor\":\"#E5ECF6\",\"gridcolor\":\"white\",\"gridwidth\":2,\"linecolor\":\"white\",\"showbackground\":true,\"ticks\":\"\",\"zerolinecolor\":\"white\"},\"yaxis\":{\"backgroundcolor\":\"#E5ECF6\",\"gridcolor\":\"white\",\"gridwidth\":2,\"linecolor\":\"white\",\"showbackground\":true,\"ticks\":\"\",\"zerolinecolor\":\"white\"},\"zaxis\":{\"backgroundcolor\":\"#E5ECF6\",\"gridcolor\":\"white\",\"gridwidth\":2,\"linecolor\":\"white\",\"showbackground\":true,\"ticks\":\"\",\"zerolinecolor\":\"white\"}},\"shapedefaults\":{\"line\":{\"color\":\"#2a3f5f\"}},\"ternary\":{\"aaxis\":{\"gridcolor\":\"white\",\"linecolor\":\"white\",\"ticks\":\"\"},\"baxis\":{\"gridcolor\":\"white\",\"linecolor\":\"white\",\"ticks\":\"\"},\"bgcolor\":\"#E5ECF6\",\"caxis\":{\"gridcolor\":\"white\",\"linecolor\":\"white\",\"ticks\":\"\"}},\"title\":{\"x\":0.05},\"xaxis\":{\"automargin\":true,\"gridcolor\":\"white\",\"linecolor\":\"white\",\"ticks\":\"\",\"title\":{\"standoff\":15},\"zerolinecolor\":\"white\",\"zerolinewidth\":2},\"yaxis\":{\"automargin\":true,\"gridcolor\":\"white\",\"linecolor\":\"white\",\"ticks\":\"\",\"title\":{\"standoff\":15},\"zerolinecolor\":\"white\",\"zerolinewidth\":2}}},\"annotations\":[{\"arrowhead\":1,\"ax\":-50,\"ay\":-50,\"showarrow\":true,\"text\":\"Min Training Loss: 0.13\",\"x\":199,\"y\":0.12739101183414459},{\"arrowhead\":1,\"ax\":-50,\"ay\":50,\"showarrow\":true,\"text\":\"Min Test Loss: 0.16\",\"x\":199,\"y\":0.16268489331007005}],\"title\":{\"text\":\"Training vs. Test Losses for Reference NN Implementation\"},\"xaxis\":{\"title\":{\"text\":\"Epochs\"}},\"yaxis\":{\"title\":{\"text\":\"Loss\"}},\"height\":600,\"width\":800},                        {\"responsive\": true}                    ).then(function(){\n",
              "                            \n",
              "var gd = document.getElementById('a781bbd4-5581-4cab-9a93-fbc7fa4dda17');\n",
              "var x = new MutationObserver(function (mutations, observer) {{\n",
              "        var display = window.getComputedStyle(gd).display;\n",
              "        if (!display || display === 'none') {{\n",
              "            console.log([gd, 'removed!']);\n",
              "            Plotly.purge(gd);\n",
              "            observer.disconnect();\n",
              "        }}\n",
              "}});\n",
              "\n",
              "// Listen for the removal of the full notebook cells\n",
              "var notebookContainer = gd.closest('#notebook-container');\n",
              "if (notebookContainer) {{\n",
              "    x.observe(notebookContainer, {childList: true});\n",
              "}}\n",
              "\n",
              "// Listen for the clearing of the current output cell\n",
              "var outputEl = gd.closest('.output');\n",
              "if (outputEl) {{\n",
              "    x.observe(outputEl, {childList: true});\n",
              "}}\n",
              "\n",
              "                        })                };                            </script>        </div>\n",
              "</body>\n",
              "</html>"
            ]
          },
          "metadata": {}
        }
      ]
    },
    {
      "cell_type": "markdown",
      "id": "f60179a0-2693-403d-9c45-d055693ae663",
      "metadata": {
        "id": "f60179a0-2693-403d-9c45-d055693ae663"
      },
      "source": [
        "### Plot Training and Test Accuracy"
      ]
    },
    {
      "cell_type": "code",
      "source": [
        "fig = go.Figure()\n",
        "\n",
        "# Add training and test loss traces to the figure\n",
        "fig.add_trace(go.Scatter(x=list(range(len(training_acc))), y=training_acc, name='Training Loss', line=dict(color='green')))\n",
        "fig.add_trace(go.Scatter(x=list(range(len(testing_acc))), y=testing_acc, name='Test Loss', line=dict(color='red')))\n",
        "\n",
        "# Add markers at the minimum values of the training and test losses\n",
        "train_min_index = len(training_acc)-1\n",
        "test_min_index = len(testing_acc)-1\n",
        "\n",
        "fig.add_annotation(x=len(training_acc)-1, y=training_acc[-1], text=f\"Max Training Accuracy: {round(training_acc[-1], 2)}\", showarrow=True, arrowhead=1, ax=-50, ay=-50)\n",
        "fig.add_annotation(x=test_min_index, y=testing_acc[-1], text=f\"Max Test Accuracy: {round(testing_acc[-1], 2)}\", showarrow=True, arrowhead=1, ax=-50, ay=50)\n",
        "\n",
        "fig.update_layout(title='Training vs. Test Accuracies for Scratch NN Implementation', xaxis_title='Epochs', yaxis_title='Loss', height=600, width= 800)\n",
        "fig.show()"
      ],
      "metadata": {
        "colab": {
          "base_uri": "https://localhost:8080/",
          "height": 617
        },
        "id": "Fnp6TbnxfUWT",
        "outputId": "939e9635-ea02-45c6-d9bf-584afac1ec08"
      },
      "id": "Fnp6TbnxfUWT",
      "execution_count": null,
      "outputs": [
        {
          "output_type": "display_data",
          "data": {
            "text/html": [
              "<html>\n",
              "<head><meta charset=\"utf-8\" /></head>\n",
              "<body>\n",
              "    <div>            <script src=\"https://cdnjs.cloudflare.com/ajax/libs/mathjax/2.7.5/MathJax.js?config=TeX-AMS-MML_SVG\"></script><script type=\"text/javascript\">if (window.MathJax) {MathJax.Hub.Config({SVG: {font: \"STIX-Web\"}});}</script>                <script type=\"text/javascript\">window.PlotlyConfig = {MathJaxConfig: 'local'};</script>\n",
              "        <script src=\"https://cdn.plot.ly/plotly-2.8.3.min.js\"></script>                <div id=\"30ba1b7b-650b-4c6a-9c94-b8c629b0aa14\" class=\"plotly-graph-div\" style=\"height:600px; width:800px;\"></div>            <script type=\"text/javascript\">                                    window.PLOTLYENV=window.PLOTLYENV || {};                                    if (document.getElementById(\"30ba1b7b-650b-4c6a-9c94-b8c629b0aa14\")) {                    Plotly.newPlot(                        \"30ba1b7b-650b-4c6a-9c94-b8c629b0aa14\",                        [{\"line\":{\"color\":\"green\"},\"name\":\"Training Loss\",\"x\":[0,1,2,3,4,5,6,7,8,9,10,11,12,13,14,15,16,17,18,19,20,21,22,23,24,25,26,27,28,29,30,31,32,33,34,35,36,37,38,39,40,41,42,43,44,45,46,47,48,49,50,51,52,53,54,55,56,57,58,59,60,61,62,63,64,65,66,67,68,69,70,71,72,73,74,75,76,77,78,79,80,81,82,83,84,85,86,87,88,89,90,91,92,93,94,95,96,97,98,99,100,101,102,103,104,105,106,107,108,109,110,111,112,113,114,115,116,117,118,119,120,121,122,123,124,125,126,127,128,129,130,131,132,133,134,135,136,137,138,139,140,141,142,143,144,145,146,147,148,149,150,151,152,153,154,155,156,157,158,159,160,161,162,163,164,165,166,167,168,169,170,171,172,173,174,175,176,177,178,179,180,181,182,183,184,185,186,187,188,189,190,191,192,193,194,195,196,197,198,199],\"y\":[0.012,0.226,0.65,0.864,0.9,0.922,0.928,0.928,0.93,0.928,0.93,0.932,0.934,0.936,0.94,0.942,0.944,0.946,0.95,0.952,0.952,0.954,0.954,0.956,0.954,0.956,0.956,0.956,0.958,0.958,0.958,0.958,0.958,0.958,0.958,0.958,0.958,0.964,0.964,0.964,0.964,0.964,0.964,0.966,0.966,0.964,0.964,0.964,0.964,0.964,0.966,0.966,0.966,0.966,0.966,0.966,0.966,0.966,0.966,0.966,0.966,0.966,0.966,0.966,0.966,0.966,0.966,0.966,0.966,0.966,0.966,0.966,0.966,0.966,0.966,0.966,0.966,0.966,0.966,0.966,0.966,0.966,0.966,0.966,0.966,0.966,0.966,0.966,0.966,0.966,0.966,0.966,0.968,0.968,0.968,0.968,0.968,0.968,0.968,0.968,0.968,0.968,0.968,0.968,0.968,0.968,0.968,0.968,0.968,0.968,0.968,0.968,0.968,0.968,0.968,0.968,0.968,0.968,0.968,0.968,0.968,0.968,0.968,0.968,0.968,0.968,0.966,0.966,0.966,0.966,0.966,0.966,0.966,0.966,0.966,0.966,0.966,0.966,0.966,0.966,0.966,0.966,0.966,0.966,0.966,0.966,0.966,0.966,0.966,0.966,0.966,0.968,0.968,0.968,0.968,0.968,0.968,0.968,0.968,0.968,0.968,0.968,0.968,0.968,0.968,0.968,0.968,0.968,0.968,0.968,0.968,0.968,0.968,0.968,0.968,0.968,0.968,0.968,0.968,0.968,0.968,0.968,0.968,0.968,0.968,0.968,0.968,0.966,0.966,0.966,0.966,0.966,0.966,0.966,0.966,0.966,0.966,0.966,0.966,0.966],\"type\":\"scatter\"},{\"line\":{\"color\":\"red\"},\"name\":\"Test Loss\",\"x\":[0,1,2,3,4,5,6,7,8,9,10,11,12,13,14,15,16,17,18,19,20,21,22,23,24,25,26,27,28,29,30,31,32,33,34,35,36,37,38,39,40,41,42,43,44,45,46,47,48,49,50,51,52,53,54,55,56,57,58,59,60,61,62,63,64,65,66,67,68,69,70,71,72,73,74,75,76,77,78,79,80,81,82,83,84,85,86,87,88,89,90,91,92,93,94,95,96,97,98,99,100,101,102,103,104,105,106,107,108,109,110,111,112,113,114,115,116,117,118,119,120,121,122,123,124,125,126,127,128,129,130,131,132,133,134,135,136,137,138,139,140,141,142,143,144,145,146,147,148,149,150,151,152,153,154,155,156,157,158,159,160,161,162,163,164,165,166,167,168,169,170,171,172,173,174,175,176,177,178,179,180,181,182,183,184,185,186,187,188,189,190,191,192,193,194,195,196,197,198,199],\"y\":[0.095,0.475,0.84,0.905,0.93,0.935,0.93,0.93,0.93,0.93,0.93,0.93,0.935,0.935,0.94,0.935,0.935,0.935,0.935,0.935,0.935,0.94,0.94,0.94,0.94,0.945,0.945,0.945,0.945,0.945,0.945,0.945,0.945,0.945,0.945,0.945,0.945,0.945,0.945,0.945,0.945,0.945,0.945,0.945,0.945,0.94,0.94,0.94,0.94,0.94,0.94,0.94,0.94,0.94,0.94,0.94,0.94,0.94,0.94,0.94,0.94,0.94,0.94,0.94,0.94,0.94,0.94,0.94,0.94,0.94,0.94,0.94,0.94,0.94,0.94,0.94,0.94,0.94,0.94,0.94,0.94,0.94,0.94,0.94,0.94,0.94,0.94,0.94,0.94,0.94,0.94,0.94,0.94,0.94,0.94,0.94,0.94,0.94,0.94,0.94,0.94,0.94,0.94,0.94,0.94,0.94,0.94,0.94,0.94,0.94,0.94,0.94,0.94,0.94,0.94,0.94,0.94,0.94,0.94,0.94,0.94,0.94,0.945,0.945,0.945,0.945,0.945,0.945,0.945,0.945,0.945,0.945,0.945,0.945,0.945,0.945,0.945,0.945,0.945,0.945,0.945,0.945,0.945,0.945,0.945,0.945,0.945,0.945,0.945,0.945,0.945,0.945,0.945,0.945,0.945,0.945,0.945,0.945,0.945,0.945,0.945,0.945,0.945,0.945,0.945,0.945,0.945,0.945,0.945,0.945,0.945,0.945,0.945,0.945,0.945,0.945,0.945,0.945,0.945,0.945,0.945,0.945,0.945,0.945,0.945,0.945,0.945,0.945,0.945,0.945,0.945,0.945,0.945,0.945,0.945,0.945,0.945,0.945,0.945,0.945],\"type\":\"scatter\"}],                        {\"template\":{\"data\":{\"bar\":[{\"error_x\":{\"color\":\"#2a3f5f\"},\"error_y\":{\"color\":\"#2a3f5f\"},\"marker\":{\"line\":{\"color\":\"#E5ECF6\",\"width\":0.5},\"pattern\":{\"fillmode\":\"overlay\",\"size\":10,\"solidity\":0.2}},\"type\":\"bar\"}],\"barpolar\":[{\"marker\":{\"line\":{\"color\":\"#E5ECF6\",\"width\":0.5},\"pattern\":{\"fillmode\":\"overlay\",\"size\":10,\"solidity\":0.2}},\"type\":\"barpolar\"}],\"carpet\":[{\"aaxis\":{\"endlinecolor\":\"#2a3f5f\",\"gridcolor\":\"white\",\"linecolor\":\"white\",\"minorgridcolor\":\"white\",\"startlinecolor\":\"#2a3f5f\"},\"baxis\":{\"endlinecolor\":\"#2a3f5f\",\"gridcolor\":\"white\",\"linecolor\":\"white\",\"minorgridcolor\":\"white\",\"startlinecolor\":\"#2a3f5f\"},\"type\":\"carpet\"}],\"choropleth\":[{\"colorbar\":{\"outlinewidth\":0,\"ticks\":\"\"},\"type\":\"choropleth\"}],\"contour\":[{\"colorbar\":{\"outlinewidth\":0,\"ticks\":\"\"},\"colorscale\":[[0.0,\"#0d0887\"],[0.1111111111111111,\"#46039f\"],[0.2222222222222222,\"#7201a8\"],[0.3333333333333333,\"#9c179e\"],[0.4444444444444444,\"#bd3786\"],[0.5555555555555556,\"#d8576b\"],[0.6666666666666666,\"#ed7953\"],[0.7777777777777778,\"#fb9f3a\"],[0.8888888888888888,\"#fdca26\"],[1.0,\"#f0f921\"]],\"type\":\"contour\"}],\"contourcarpet\":[{\"colorbar\":{\"outlinewidth\":0,\"ticks\":\"\"},\"type\":\"contourcarpet\"}],\"heatmap\":[{\"colorbar\":{\"outlinewidth\":0,\"ticks\":\"\"},\"colorscale\":[[0.0,\"#0d0887\"],[0.1111111111111111,\"#46039f\"],[0.2222222222222222,\"#7201a8\"],[0.3333333333333333,\"#9c179e\"],[0.4444444444444444,\"#bd3786\"],[0.5555555555555556,\"#d8576b\"],[0.6666666666666666,\"#ed7953\"],[0.7777777777777778,\"#fb9f3a\"],[0.8888888888888888,\"#fdca26\"],[1.0,\"#f0f921\"]],\"type\":\"heatmap\"}],\"heatmapgl\":[{\"colorbar\":{\"outlinewidth\":0,\"ticks\":\"\"},\"colorscale\":[[0.0,\"#0d0887\"],[0.1111111111111111,\"#46039f\"],[0.2222222222222222,\"#7201a8\"],[0.3333333333333333,\"#9c179e\"],[0.4444444444444444,\"#bd3786\"],[0.5555555555555556,\"#d8576b\"],[0.6666666666666666,\"#ed7953\"],[0.7777777777777778,\"#fb9f3a\"],[0.8888888888888888,\"#fdca26\"],[1.0,\"#f0f921\"]],\"type\":\"heatmapgl\"}],\"histogram\":[{\"marker\":{\"pattern\":{\"fillmode\":\"overlay\",\"size\":10,\"solidity\":0.2}},\"type\":\"histogram\"}],\"histogram2d\":[{\"colorbar\":{\"outlinewidth\":0,\"ticks\":\"\"},\"colorscale\":[[0.0,\"#0d0887\"],[0.1111111111111111,\"#46039f\"],[0.2222222222222222,\"#7201a8\"],[0.3333333333333333,\"#9c179e\"],[0.4444444444444444,\"#bd3786\"],[0.5555555555555556,\"#d8576b\"],[0.6666666666666666,\"#ed7953\"],[0.7777777777777778,\"#fb9f3a\"],[0.8888888888888888,\"#fdca26\"],[1.0,\"#f0f921\"]],\"type\":\"histogram2d\"}],\"histogram2dcontour\":[{\"colorbar\":{\"outlinewidth\":0,\"ticks\":\"\"},\"colorscale\":[[0.0,\"#0d0887\"],[0.1111111111111111,\"#46039f\"],[0.2222222222222222,\"#7201a8\"],[0.3333333333333333,\"#9c179e\"],[0.4444444444444444,\"#bd3786\"],[0.5555555555555556,\"#d8576b\"],[0.6666666666666666,\"#ed7953\"],[0.7777777777777778,\"#fb9f3a\"],[0.8888888888888888,\"#fdca26\"],[1.0,\"#f0f921\"]],\"type\":\"histogram2dcontour\"}],\"mesh3d\":[{\"colorbar\":{\"outlinewidth\":0,\"ticks\":\"\"},\"type\":\"mesh3d\"}],\"parcoords\":[{\"line\":{\"colorbar\":{\"outlinewidth\":0,\"ticks\":\"\"}},\"type\":\"parcoords\"}],\"pie\":[{\"automargin\":true,\"type\":\"pie\"}],\"scatter\":[{\"marker\":{\"colorbar\":{\"outlinewidth\":0,\"ticks\":\"\"}},\"type\":\"scatter\"}],\"scatter3d\":[{\"line\":{\"colorbar\":{\"outlinewidth\":0,\"ticks\":\"\"}},\"marker\":{\"colorbar\":{\"outlinewidth\":0,\"ticks\":\"\"}},\"type\":\"scatter3d\"}],\"scattercarpet\":[{\"marker\":{\"colorbar\":{\"outlinewidth\":0,\"ticks\":\"\"}},\"type\":\"scattercarpet\"}],\"scattergeo\":[{\"marker\":{\"colorbar\":{\"outlinewidth\":0,\"ticks\":\"\"}},\"type\":\"scattergeo\"}],\"scattergl\":[{\"marker\":{\"colorbar\":{\"outlinewidth\":0,\"ticks\":\"\"}},\"type\":\"scattergl\"}],\"scattermapbox\":[{\"marker\":{\"colorbar\":{\"outlinewidth\":0,\"ticks\":\"\"}},\"type\":\"scattermapbox\"}],\"scatterpolar\":[{\"marker\":{\"colorbar\":{\"outlinewidth\":0,\"ticks\":\"\"}},\"type\":\"scatterpolar\"}],\"scatterpolargl\":[{\"marker\":{\"colorbar\":{\"outlinewidth\":0,\"ticks\":\"\"}},\"type\":\"scatterpolargl\"}],\"scatterternary\":[{\"marker\":{\"colorbar\":{\"outlinewidth\":0,\"ticks\":\"\"}},\"type\":\"scatterternary\"}],\"surface\":[{\"colorbar\":{\"outlinewidth\":0,\"ticks\":\"\"},\"colorscale\":[[0.0,\"#0d0887\"],[0.1111111111111111,\"#46039f\"],[0.2222222222222222,\"#7201a8\"],[0.3333333333333333,\"#9c179e\"],[0.4444444444444444,\"#bd3786\"],[0.5555555555555556,\"#d8576b\"],[0.6666666666666666,\"#ed7953\"],[0.7777777777777778,\"#fb9f3a\"],[0.8888888888888888,\"#fdca26\"],[1.0,\"#f0f921\"]],\"type\":\"surface\"}],\"table\":[{\"cells\":{\"fill\":{\"color\":\"#EBF0F8\"},\"line\":{\"color\":\"white\"}},\"header\":{\"fill\":{\"color\":\"#C8D4E3\"},\"line\":{\"color\":\"white\"}},\"type\":\"table\"}]},\"layout\":{\"annotationdefaults\":{\"arrowcolor\":\"#2a3f5f\",\"arrowhead\":0,\"arrowwidth\":1},\"autotypenumbers\":\"strict\",\"coloraxis\":{\"colorbar\":{\"outlinewidth\":0,\"ticks\":\"\"}},\"colorscale\":{\"diverging\":[[0,\"#8e0152\"],[0.1,\"#c51b7d\"],[0.2,\"#de77ae\"],[0.3,\"#f1b6da\"],[0.4,\"#fde0ef\"],[0.5,\"#f7f7f7\"],[0.6,\"#e6f5d0\"],[0.7,\"#b8e186\"],[0.8,\"#7fbc41\"],[0.9,\"#4d9221\"],[1,\"#276419\"]],\"sequential\":[[0.0,\"#0d0887\"],[0.1111111111111111,\"#46039f\"],[0.2222222222222222,\"#7201a8\"],[0.3333333333333333,\"#9c179e\"],[0.4444444444444444,\"#bd3786\"],[0.5555555555555556,\"#d8576b\"],[0.6666666666666666,\"#ed7953\"],[0.7777777777777778,\"#fb9f3a\"],[0.8888888888888888,\"#fdca26\"],[1.0,\"#f0f921\"]],\"sequentialminus\":[[0.0,\"#0d0887\"],[0.1111111111111111,\"#46039f\"],[0.2222222222222222,\"#7201a8\"],[0.3333333333333333,\"#9c179e\"],[0.4444444444444444,\"#bd3786\"],[0.5555555555555556,\"#d8576b\"],[0.6666666666666666,\"#ed7953\"],[0.7777777777777778,\"#fb9f3a\"],[0.8888888888888888,\"#fdca26\"],[1.0,\"#f0f921\"]]},\"colorway\":[\"#636efa\",\"#EF553B\",\"#00cc96\",\"#ab63fa\",\"#FFA15A\",\"#19d3f3\",\"#FF6692\",\"#B6E880\",\"#FF97FF\",\"#FECB52\"],\"font\":{\"color\":\"#2a3f5f\"},\"geo\":{\"bgcolor\":\"white\",\"lakecolor\":\"white\",\"landcolor\":\"#E5ECF6\",\"showlakes\":true,\"showland\":true,\"subunitcolor\":\"white\"},\"hoverlabel\":{\"align\":\"left\"},\"hovermode\":\"closest\",\"mapbox\":{\"style\":\"light\"},\"paper_bgcolor\":\"white\",\"plot_bgcolor\":\"#E5ECF6\",\"polar\":{\"angularaxis\":{\"gridcolor\":\"white\",\"linecolor\":\"white\",\"ticks\":\"\"},\"bgcolor\":\"#E5ECF6\",\"radialaxis\":{\"gridcolor\":\"white\",\"linecolor\":\"white\",\"ticks\":\"\"}},\"scene\":{\"xaxis\":{\"backgroundcolor\":\"#E5ECF6\",\"gridcolor\":\"white\",\"gridwidth\":2,\"linecolor\":\"white\",\"showbackground\":true,\"ticks\":\"\",\"zerolinecolor\":\"white\"},\"yaxis\":{\"backgroundcolor\":\"#E5ECF6\",\"gridcolor\":\"white\",\"gridwidth\":2,\"linecolor\":\"white\",\"showbackground\":true,\"ticks\":\"\",\"zerolinecolor\":\"white\"},\"zaxis\":{\"backgroundcolor\":\"#E5ECF6\",\"gridcolor\":\"white\",\"gridwidth\":2,\"linecolor\":\"white\",\"showbackground\":true,\"ticks\":\"\",\"zerolinecolor\":\"white\"}},\"shapedefaults\":{\"line\":{\"color\":\"#2a3f5f\"}},\"ternary\":{\"aaxis\":{\"gridcolor\":\"white\",\"linecolor\":\"white\",\"ticks\":\"\"},\"baxis\":{\"gridcolor\":\"white\",\"linecolor\":\"white\",\"ticks\":\"\"},\"bgcolor\":\"#E5ECF6\",\"caxis\":{\"gridcolor\":\"white\",\"linecolor\":\"white\",\"ticks\":\"\"}},\"title\":{\"x\":0.05},\"xaxis\":{\"automargin\":true,\"gridcolor\":\"white\",\"linecolor\":\"white\",\"ticks\":\"\",\"title\":{\"standoff\":15},\"zerolinecolor\":\"white\",\"zerolinewidth\":2},\"yaxis\":{\"automargin\":true,\"gridcolor\":\"white\",\"linecolor\":\"white\",\"ticks\":\"\",\"title\":{\"standoff\":15},\"zerolinecolor\":\"white\",\"zerolinewidth\":2}}},\"annotations\":[{\"arrowhead\":1,\"ax\":-50,\"ay\":-50,\"showarrow\":true,\"text\":\"Max Training Accuracy: 0.97\",\"x\":199,\"y\":0.966},{\"arrowhead\":1,\"ax\":-50,\"ay\":50,\"showarrow\":true,\"text\":\"Max Test Accuracy: 0.94\",\"x\":199,\"y\":0.945}],\"title\":{\"text\":\"Training vs. Test Accuracies for Scratch NN Implementation\"},\"xaxis\":{\"title\":{\"text\":\"Epochs\"}},\"yaxis\":{\"title\":{\"text\":\"Loss\"}},\"height\":600,\"width\":800},                        {\"responsive\": true}                    ).then(function(){\n",
              "                            \n",
              "var gd = document.getElementById('30ba1b7b-650b-4c6a-9c94-b8c629b0aa14');\n",
              "var x = new MutationObserver(function (mutations, observer) {{\n",
              "        var display = window.getComputedStyle(gd).display;\n",
              "        if (!display || display === 'none') {{\n",
              "            console.log([gd, 'removed!']);\n",
              "            Plotly.purge(gd);\n",
              "            observer.disconnect();\n",
              "        }}\n",
              "}});\n",
              "\n",
              "// Listen for the removal of the full notebook cells\n",
              "var notebookContainer = gd.closest('#notebook-container');\n",
              "if (notebookContainer) {{\n",
              "    x.observe(notebookContainer, {childList: true});\n",
              "}}\n",
              "\n",
              "// Listen for the clearing of the current output cell\n",
              "var outputEl = gd.closest('.output');\n",
              "if (outputEl) {{\n",
              "    x.observe(outputEl, {childList: true});\n",
              "}}\n",
              "\n",
              "                        })                };                            </script>        </div>\n",
              "</body>\n",
              "</html>"
            ]
          },
          "metadata": {}
        }
      ]
    },
    {
      "cell_type": "code",
      "source": [],
      "metadata": {
        "id": "g4-IGuSsuYMy"
      },
      "id": "g4-IGuSsuYMy",
      "execution_count": null,
      "outputs": []
    }
  ],
  "metadata": {
    "colab": {
      "provenance": [],
      "include_colab_link": true
    },
    "kernelspec": {
      "display_name": "Python 3 (ipykernel)",
      "language": "python",
      "name": "python3"
    },
    "language_info": {
      "codemirror_mode": {
        "name": "ipython",
        "version": 3
      },
      "file_extension": ".py",
      "mimetype": "text/x-python",
      "name": "python",
      "nbconvert_exporter": "python",
      "pygments_lexer": "ipython3",
      "version": "3.8.8"
    }
  },
  "nbformat": 4,
  "nbformat_minor": 5
}